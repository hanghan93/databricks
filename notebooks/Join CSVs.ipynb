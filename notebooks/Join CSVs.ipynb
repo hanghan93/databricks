{
 "cells": [
  {
   "cell_type": "markdown",
   "id": "editorial-maker",
   "metadata": {},
   "source": [
    "Write a query that:\n",
    "\n",
    "1. Returns the top 5 users and their emails by total gross orders (only successful orders) in the last 1 year by active vendor type with ordering by the oldest user on the platform\n",
    "2. Vendor ID and vendor type that did the most in amt in non-cancelled orders in the last 3 years\n",
    "3. Vendor ID and vendor type with the most amt in any in cancelled orders\n",
    "\n",
    "Python: implement query 1 in Python using only the standard library. No spark, pandas, etc. Imagine you have a CSV for each table with the same headers."
   ]
  },
  {
   "cell_type": "code",
   "execution_count": 1,
   "id": "filled-approval",
   "metadata": {},
   "outputs": [],
   "source": [
    "# import the required modules\n",
    "from datetime import datetime,timedelta\n",
    "from collections import Counter\n",
    "from itertools import groupby\n",
    "import operator\n",
    "import csv"
   ]
  },
  {
   "cell_type": "code",
   "execution_count": 2,
   "id": "demographic-piano",
   "metadata": {},
   "outputs": [],
   "source": [
    "# read csv file separated by ;, it has been assumed that file is with headers\n",
    "def read_csv(filename):\n",
    "    ls = []\n",
    "    with open(filename, newline='') as csvfile:\n",
    "        records = csv.reader(csvfile, delimiter=';', quotechar='\"')\n",
    "        try:\n",
    "            for row in records:\n",
    "                ls.append(row)\n",
    "        except csv.Error as e:\n",
    "            sys.exit('file {}, line {}: {}'.format(filename, records.line_num, e))\n",
    "    return ls[1:]"
   ]
  },
  {
   "cell_type": "code",
   "execution_count": 3,
   "id": "little-vietnam",
   "metadata": {},
   "outputs": [],
   "source": [
    "# read all csvs\n",
    "listusers = read_csv('C:/Users/onepoint/Desktop/DIM_USERS.csv')\n",
    "listorders = read_csv('C:/Users/onepoint/Desktop/FCT_ORDERS.csv')\n",
    "listvendors = read_csv('C:/Users/onepoint/Desktop/DIM_VENDORS.csv')"
   ]
  },
  {
   "cell_type": "code",
   "execution_count": 4,
   "id": "naval-drive",
   "metadata": {},
   "outputs": [],
   "source": [
    "# loop to join and filter only successful orders (status == '0') in the last 1 year (placed_at > currentdate - 1 year) by active vendor type (vendor_is_active == true)\n",
    "listmerge= []\n",
    "for (order_id,status,amt,placed_at,cancelled_at,returned_at,failed_at,vendor_id_fk,user_id_fk) in listorders:\n",
    "    for (user_id, name, phone, added_at, removed_at, email, is_active) in listusers:\n",
    "        for (vendor_id, vendor_type, vendor_added_at,vendor_removed_at,vendor_is_active,vendor_is_platform_online) in listvendors:\n",
    "            if user_id == user_id_fk and status == '0' and datetime.strptime(placed_at, '%d-%m-%Y %H:%M:%S') > (datetime.now() - timedelta(days=365)) and vendor_is_active == 'true' :\n",
    "                Dict = {}\n",
    "                Dict['order_id'] = int(order_id)\n",
    "                Dict['user_id'] = int(user_id)\n",
    "                Dict['added_at'] = datetime.strptime(added_at, '%d-%m-%Y')\n",
    "                listmerge.append(Dict)"
   ]
  },
  {
   "cell_type": "code",
   "execution_count": 5,
   "id": "municipal-interest",
   "metadata": {},
   "outputs": [],
   "source": [
    "# to get top 5 users and their emails by total gross orders\n",
    "# group by user_id and get the total count of orders (gross orders)\n",
    "# output {'user_id':'count'}\n",
    "\n",
    "d = sorted(listmerge, key = operator.itemgetter('user_id')) # sort the dict first by user_id\n",
    "orderCount = {}\n",
    "for uid, data in groupby(d, key = operator.itemgetter('user_id')):\n",
    "    cnt = 0\n",
    "    for row in data:\n",
    "        cnt = cnt + 1\n",
    "    orderCount[uid] = cnt"
   ]
  },
  {
   "cell_type": "code",
   "execution_count": 6,
   "id": "empirical-hearts",
   "metadata": {},
   "outputs": [],
   "source": [
    "# get top 5 user id with most occurrence\n",
    "\n",
    "top5 = dict(Counter(orderCount).most_common(5))"
   ]
  },
  {
   "cell_type": "code",
   "execution_count": 7,
   "id": "radio-headquarters",
   "metadata": {},
   "outputs": [
    {
     "data": {
      "text/plain": [
       "{12: 3549, 2: 3042, 40: 3042, 64: 3042, 94: 3042}"
      ]
     },
     "execution_count": 7,
     "metadata": {},
     "output_type": "execute_result"
    }
   ],
   "source": [
    "top5"
   ]
  },
  {
   "cell_type": "code",
   "execution_count": 8,
   "id": "departmental-citizenship",
   "metadata": {},
   "outputs": [],
   "source": [
    "# now we have top 5 users with most orders, get the other details like name, email from listusers\n",
    "listOut = []\n",
    "for uid in top5:\n",
    "    for (user_id, name, phone, added_at, removed_at, email, is_active) in listusers:\n",
    "        if (int(user_id) == uid):\n",
    "            sub = {}\n",
    "            sub['user_id'] = user_id\n",
    "            sub['name'] = name\n",
    "            sub['added_at'] = datetime.strptime(added_at, '%d-%m-%Y')\n",
    "            sub['email'] = email\n",
    "            listOut.append(sub)"
   ]
  },
  {
   "cell_type": "code",
   "execution_count": 9,
   "id": "unlikely-intranet",
   "metadata": {},
   "outputs": [],
   "source": [
    "listOut.sort(key=lambda item:(item['added_at']))"
   ]
  },
  {
   "cell_type": "code",
   "execution_count": 10,
   "id": "blank-nightmare",
   "metadata": {},
   "outputs": [
    {
     "data": {
      "text/plain": [
       "[{'user_id': '64',\n",
       "  'name': 'James',\n",
       "  'added_at': datetime.datetime(2020, 1, 15, 0, 0),\n",
       "  'email': 'Grover.Taft@GMAIL.COM'},\n",
       " {'user_id': '94',\n",
       "  'name': 'Warren',\n",
       "  'added_at': datetime.datetime(2020, 1, 29, 0, 0),\n",
       "  'email': 'Lyndon.Clinton@GMAIL.COM'},\n",
       " {'user_id': '40',\n",
       "  'name': 'Ulysses',\n",
       "  'added_at': datetime.datetime(2020, 2, 14, 0, 0),\n",
       "  'email': 'Bill.Pierce@GMAIL.COM'},\n",
       " {'user_id': '2',\n",
       "  'name': 'Herbert',\n",
       "  'added_at': datetime.datetime(2020, 2, 25, 0, 0),\n",
       "  'email': 'John.Quincy@GMAIL.COM'},\n",
       " {'user_id': '12',\n",
       "  'name': 'Millard',\n",
       "  'added_at': datetime.datetime(2020, 2, 26, 0, 0),\n",
       "  'email': 'George.Fillmore@GMAIL.COM'}]"
      ]
     },
     "execution_count": 10,
     "metadata": {},
     "output_type": "execute_result"
    }
   ],
   "source": [
    "listOut"
   ]
  },
  {
   "cell_type": "code",
   "execution_count": 11,
   "id": "organizational-judgment",
   "metadata": {},
   "outputs": [],
   "source": [
    "#Vendor ID and vendor type that did the most in amt in non-cancelled orders in the last 3 years\n",
    "\n",
    "SELECT TOP 1 v.ID, v.TYPE, SUM(o.AMT) fct_orders o\n",
    "INNER JOIN dim_vendors v ON v.ID = o.VENDOR_ID\n",
    "WHERE o.STATUS != -1 AND o.PLACED_AT>= DATEADD(year, -3, GETDATE())\n",
    "GROUP BY v.ID,v.TYPE\n",
    "ORDER BY SUM(o.AMT) DESC"
   ]
  },
  {
   "cell_type": "code",
   "execution_count": 12,
   "id": "charitable-basin",
   "metadata": {},
   "outputs": [],
   "source": [
    "#Vendor ID and vendor type with the most in AMT in cancelled orders\n",
    "\n",
    "SELECT TOP 1 v.ID, v.TYPE, SUM(o.AMT) fct_orders o\n",
    "INNER JOIN dim_vendors v ON v.ID = o.VENDOR_ID\n",
    "WHERE o.STATUS = -1\n",
    "GROUP BY v.ID,v.TYPE\n",
    "ORDER BY SUM(o.AMT) DESC"
   ]
  }
 ],
 "metadata": {
  "kernelspec": {
   "display_name": "Python 3",
   "language": "python",
   "name": "python3"
  },
  "language_info": {
   "codemirror_mode": {
    "name": "ipython",
    "version": 3
   },
   "file_extension": ".py",
   "mimetype": "text/x-python",
   "name": "python",
   "nbconvert_exporter": "python",
   "pygments_lexer": "ipython3",
   "version": "3.7.9"
  }
 },
 "nbformat": 4,
 "nbformat_minor": 5
}
